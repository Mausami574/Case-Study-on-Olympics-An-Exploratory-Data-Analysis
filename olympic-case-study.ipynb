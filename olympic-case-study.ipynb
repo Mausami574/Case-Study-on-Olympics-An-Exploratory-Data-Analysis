{
 "cells": [
  {
   "cell_type": "markdown",
   "metadata": {},
   "source": [
    "# Olympic Case Study - A Beginner's Guide"
   ]
  },
  {
   "cell_type": "markdown",
   "metadata": {},
   "source": [
    "\n",
    "This is an interesting data analysis on the data of Olympic games held until the year 2016. This is an exploratory data analysis and basic data visualizations repo. \n",
    "\n",
    "\n",
    "Our dataset has the following features.\n",
    "\n",
    "* ID - Unique number for each athlete;\n",
    "* Name - Athlete's name;\n",
    "* Sex - M or F;\n",
    "* Age;\n",
    "* Height - In centimeters;\n",
    "* Weight - In kilograms;\n",
    "* Team - Team name;\n",
    "* NOC;\n",
    "* Games - Year and season;\n",
    "* Year;\n",
    "* Season - Summer or Winter;\n",
    "* City - Host city;\n",
    "* Sport - Sport;\n",
    "* Event - Event;\n",
    "* Medal - Gold, Silver, Bronze, or NA."
   ]
  },
  {
   "cell_type": "markdown",
   "metadata": {},
   "source": [
    "## Importing Libraries and Dataset"
   ]
  },
  {
   "cell_type": "markdown",
   "metadata": {},
   "source": [
    "The libraries used in this notebook are,\n",
    "* Numpy\n",
    "* Pandas\n",
    "* Matplotlib"
   ]
  },
  {
   "cell_type": "code",
   "execution_count": null,
   "metadata": {
    "_cell_guid": "b1076dfc-b9ad-4769-8c92-a6c4dae69d19",
    "_uuid": "8f2839f25d086af736a60e9eeb907d3b93b6e0e5"
   },
   "outputs": [],
   "source": [
    "import numpy as np # linear algebra\n",
    "import pandas as pd # data processing, CSV file I/O (e.g. pd.read_csv)\n",
    "import matplotlib.pyplot as plt\n",
    "import warnings\n",
    "warnings.filterwarnings('ignore')\n",
    "\n",
    "# Input data files are available in the read-only \"../input/\" directory\n",
    "# For example, running this (by clicking run or pressing Shift+Enter) will list all files under the input directory\n",
    "\n",
    "import os\n",
    "for dirname, _, filenames in os.walk('/kaggle/input'):\n",
    "    for filename in filenames:\n",
    "        print(os.path.join(dirname, filename))\n",
    "\n",
    "# You can write up to 5GB to the current directory (/kaggle/working/) that gets preserved as output when you create a version using \"Save & Run All\" \n",
    "# You can also write temporary files to /kaggle/temp/, but they won't be saved outside of the current session"
   ]
  },
  {
   "cell_type": "code",
   "execution_count": null,
   "metadata": {
    "_cell_guid": "79c7e3d0-c299-4dcb-8224-4455121ee9b0",
    "_uuid": "d629ff2d2480ee46fbb7e2d37f6b5fab8052498a"
   },
   "outputs": [],
   "source": [
    "df = pd.read_csv('../input/120-years-of-olympic-history-athletes-and-results/athlete_events.csv')\n",
    "noc = pd.read_csv('../input/120-years-of-olympic-history-athletes-and-results/noc_regions.csv')\n",
    "original = df.copy()"
   ]
  },
  {
   "cell_type": "markdown",
   "metadata": {},
   "source": [
    "It is a best practise to keep a copy of the original dataset. Let's merge both the datasets with NOC field as the primary key."
   ]
  },
  {
   "cell_type": "code",
   "execution_count": null,
   "metadata": {},
   "outputs": [],
   "source": [
    "df = pd.merge(left = df, right = noc, on = 'NOC')"
   ]
  },
  {
   "cell_type": "code",
   "execution_count": null,
   "metadata": {},
   "outputs": [],
   "source": [
    "print(df.shape)"
   ]
  },
  {
   "cell_type": "code",
   "execution_count": null,
   "metadata": {},
   "outputs": [],
   "source": [
    "df.info()"
   ]
  },
  {
   "cell_type": "code",
   "execution_count": null,
   "metadata": {},
   "outputs": [],
   "source": [
    "df.describe()"
   ]
  },
  {
   "cell_type": "markdown",
   "metadata": {},
   "source": [
    "Let's quickly drop the duplicate rows in this dataset as they impact our analysis. Also the columns like ID and notes would be of no use for our task. Hence they can also be removed."
   ]
  },
  {
   "cell_type": "code",
   "execution_count": null,
   "metadata": {},
   "outputs": [],
   "source": [
    "df.drop_duplicates(inplace = True) "
   ]
  },
  {
   "cell_type": "code",
   "execution_count": null,
   "metadata": {},
   "outputs": [],
   "source": [
    "df.drop(columns = ['ID', 'notes'], inplace = True)"
   ]
  },
  {
   "cell_type": "code",
   "execution_count": null,
   "metadata": {},
   "outputs": [],
   "source": [
    "num_cols = df.select_dtypes(['int64', 'float64']).columns.tolist()\n",
    "obj_cols = df.select_dtypes('O').columns.tolist()"
   ]
  },
  {
   "cell_type": "code",
   "execution_count": null,
   "metadata": {},
   "outputs": [],
   "source": [
    "print('No. of Unique Values')\n",
    "for i in obj_cols:\n",
    "    print(i, ':', df[i].nunique())"
   ]
  },
  {
   "cell_type": "code",
   "execution_count": null,
   "metadata": {},
   "outputs": [],
   "source": [
    "df.sample(10)"
   ]
  },
  {
   "cell_type": "markdown",
   "metadata": {},
   "source": [
    "Let's check for the missing values. I'm defining a simple function which takes a dataframe as an argument and gives out another dataframe with no. of missing values and their percentage."
   ]
  },
  {
   "cell_type": "code",
   "execution_count": null,
   "metadata": {},
   "outputs": [],
   "source": [
    "def missing(df):\n",
    "    total = df.isnull().sum().sort_values(ascending = False)\n",
    "    percent = round(df.isnull().sum().sort_values(ascending = False) / len(df) * 100, 2)\n",
    "    return pd.concat([total, percent], axis = 1, keys = ['Total', '% Missing'])"
   ]
  },
  {
   "cell_type": "code",
   "execution_count": null,
   "metadata": {},
   "outputs": [],
   "source": [
    "missing(df)"
   ]
  },
  {
   "cell_type": "markdown",
   "metadata": {},
   "source": [
    "Medals can be left as it is because not all the players who participate in the game would win. But the height, weight and age columns also have missing values. Even though the number of missing values in height and weight features are high, let us drop this as we will be still having a dataset with reasonable number of observations which suffice for the analysis."
   ]
  },
  {
   "cell_type": "code",
   "execution_count": null,
   "metadata": {},
   "outputs": [],
   "source": [
    "df.dropna(subset = ['Weight', 'Height', 'Age'], inplace = True)"
   ]
  },
  {
   "cell_type": "markdown",
   "metadata": {},
   "source": [
    "Though we have age, it is of a numeric type. Let's bin this feature as the categorization of numeric variables would simplify the analysis and more intuitive."
   ]
  },
  {
   "cell_type": "code",
   "execution_count": null,
   "metadata": {},
   "outputs": [],
   "source": [
    "bins = [0, 29, 45, 60, 100]\n",
    "df['Age Group'] = pd.cut(df['Age'], bins = bins)"
   ]
  },
  {
   "cell_type": "markdown",
   "metadata": {},
   "source": [
    "An interesting feature we could create from height and weight features is BMI. Let's create a feature for BMI using this formula.\n",
    "\n",
    "* BMI = Weight (kg) / Height (m) ** 2"
   ]
  },
  {
   "cell_type": "code",
   "execution_count": null,
   "metadata": {},
   "outputs": [],
   "source": [
    "df['bmi'] = df['Weight'] / ((df['Height'] / 100) ** 2)"
   ]
  },
  {
   "cell_type": "code",
   "execution_count": null,
   "metadata": {},
   "outputs": [],
   "source": [
    "df['bmi group'] = np.where(df['bmi'] <= 18.5, 'Underweight',\n",
    "                          np.where(df['bmi'] < 25, 'Normal',\n",
    "                                  np.where(df['bmi'] < 30, 'Overweight',\n",
    "                                          np.where(df['bmi'] >= 30, 'Obese', 'NA'))))"
   ]
  },
  {
   "cell_type": "markdown",
   "metadata": {},
   "source": [
    "Okay, Let's define our own questions before moving forward. Framing questions before deep diving into the analysis would help us to stick to the flow. We would not be wasting time in less important points, rather we would be focused in finding the answers one by one. This will make our analysis more structured as well."
   ]
  },
  {
   "cell_type": "markdown",
   "metadata": {},
   "source": [
    "## Insights to be derived"
   ]
  },
  {
   "cell_type": "markdown",
   "metadata": {},
   "source": [
    "The following questions apply for both summer and winter Olympics.\n",
    "\n",
    "### Country:\n",
    "* What are the top 5 countries which have won most medals?\n",
    "* What are top 5 countries which has sent more players to the Olympic games?\n",
    "* Did the top 5 countries won medals consistently for the last 5 Olympic seasons?\n",
    "* Does an increase in no. of players from a particular country increases the no. of medals for the country?\n",
    "* Which country has the best male to female ratio of players?\n",
    "* Are there any countries which have participated in every game in the most recent Olympic held?\n",
    "\n",
    "### City:\n",
    "* Which are the top 5 cities which hosted the most number of Olympic games?\n",
    "\n",
    "### Sport:\n",
    "* Are there any new sports introduced in the most recent summer Olympic held?\n",
    "* Which are the sports being played since the first summer Olympic season?\n",
    "\n",
    "### Player:\n",
    "* Who are the top 5 players that won most gold, silver and bronze medals? \n",
    "* Are young players tend to win more medals than the elder ones?\n",
    "* Is BMI a factor influencing the player's ability to win a medal?"
   ]
  },
  {
   "cell_type": "code",
   "execution_count": null,
   "metadata": {},
   "outputs": [],
   "source": [
    "print(\"Number of Olympic Seasons Held :\", df['Year'].nunique())\n",
    "print(\"Number of Countries Participated :\", df['NOC'].nunique())\n",
    "print(\"Number of Players Participated :\", df['Name'].nunique())\n",
    "print(\"Number of Sports Conducted :\", df['Sport'].nunique())\n",
    "print(\"Number of Medals Won :\\n\", df['Medal'].dropna().value_counts())"
   ]
  },
  {
   "cell_type": "markdown",
   "metadata": {},
   "source": [
    "### What are the top 5 countries which have won most gold, silver and bronze medals?"
   ]
  },
  {
   "cell_type": "markdown",
   "metadata": {},
   "source": [
    "Let's first have a subset of the original dataframe. This subset contains the observations where atleast a medal is won."
   ]
  },
  {
   "cell_type": "code",
   "execution_count": null,
   "metadata": {},
   "outputs": [],
   "source": [
    "medals_won = df.dropna(subset = ['Medal'])"
   ]
  },
  {
   "cell_type": "code",
   "execution_count": null,
   "metadata": {},
   "outputs": [],
   "source": [
    "plt.rcParams['figure.figsize'] = (8,6)\n",
    "\n",
    "medals_won['region'].value_counts().nlargest(5).plot(kind = 'bar', linewidth = 1, facecolor = 'seagreen', edgecolor = 'k')\n",
    "plt.title('Top 5 Countries with most medals')\n",
    "plt.xlabel('Country')\n",
    "plt.ylabel('# Medals')\n",
    "plt.show()"
   ]
  },
  {
   "cell_type": "markdown",
   "metadata": {},
   "source": [
    "### What are the top 5 countries which sent more players?"
   ]
  },
  {
   "cell_type": "code",
   "execution_count": null,
   "metadata": {},
   "outputs": [],
   "source": [
    "df.groupby('region')['Name'].count().nlargest(5).plot(kind = 'bar', linewidth = 1, facecolor = 'seagreen', edgecolor = 'k')\n",
    "plt.title('Top 5 Countries which sent most players')\n",
    "plt.xlabel('Country')\n",
    "plt.ylabel('# Players')\n",
    "plt.show()"
   ]
  },
  {
   "cell_type": "markdown",
   "metadata": {},
   "source": [
    "### Did the top 5 countries won medals consistently for the last 5 Olympic seasons?"
   ]
  },
  {
   "cell_type": "markdown",
   "metadata": {},
   "source": [
    "To check whether the top 5 countries which won the most medals were consistent across the last 5 seasons, let's create a subset with only the top 5 countries."
   ]
  },
  {
   "cell_type": "code",
   "execution_count": null,
   "metadata": {},
   "outputs": [],
   "source": [
    "top5countries_medals = medals_won.loc[medals_won['region'].isin(['USA', 'UK', 'Russia', 'France', 'Germany']), :]"
   ]
  },
  {
   "cell_type": "code",
   "execution_count": null,
   "metadata": {},
   "outputs": [],
   "source": [
    "plt.rcParams['figure.figsize'] = (12,6)\n",
    "\n",
    "pd.pivot_table(index = 'Year', columns = 'region', values = 'Medal', aggfunc = 'count',data = top5countries_medals).iloc[-5:, :].plot()\n",
    "plt.title('Performance of Top 5 Countries Over Last 5 Seasons')\n",
    "plt.xlabel('Country')\n",
    "plt.ylabel('#Medals')\n",
    "plt.show()"
   ]
  },
  {
   "cell_type": "markdown",
   "metadata": {},
   "source": [
    "### Which country has the best male - female ratio?"
   ]
  },
  {
   "cell_type": "markdown",
   "metadata": {},
   "source": [
    "Let's create a pivot table to see the count of players by gender in every region."
   ]
  },
  {
   "cell_type": "code",
   "execution_count": null,
   "metadata": {},
   "outputs": [],
   "source": [
    "mf_ratio = pd.pivot_table(index = 'region', columns = 'Sex', values = 'Name', data = df, aggfunc = 'nunique')\n",
    "mf_ratio.head()"
   ]
  },
  {
   "cell_type": "code",
   "execution_count": null,
   "metadata": {},
   "outputs": [],
   "source": [
    "mf_ratio['MRatio'] = ((mf_ratio['M'] / mf_ratio['M'])  * 100).astype(int)\n",
    "mf_ratio['FRatio'] = ((mf_ratio['F'] / mf_ratio['M'])  * 100).astype(int)\n",
    "mf_ratio['Overall'] = round(mf_ratio['MRatio'] / mf_ratio['FRatio'], 2)"
   ]
  },
  {
   "cell_type": "code",
   "execution_count": null,
   "metadata": {},
   "outputs": [],
   "source": [
    "mf_ratio[(mf_ratio['Overall'] > 0.90) & (mf_ratio['Overall'] < 1.1)]"
   ]
  },
  {
   "cell_type": "markdown",
   "metadata": {},
   "source": [
    "These are the countries which have the M:F ratio almost equal to 1. Why are we looking for a value almost equal to 1?\n",
    "The value of 1 represents that the no. of males participated is equal to the no. of the females participated. As the value of 1 can't be obtained ideally, a buffer of -0.1 to 0.1 is chosen.\n",
    "Let's filter this with the countries which has sent more than 100 players as it makes more sense."
   ]
  },
  {
   "cell_type": "code",
   "execution_count": null,
   "metadata": {},
   "outputs": [],
   "source": [
    "mf_ratio.loc[((mf_ratio['Overall'] > 0.90) & (mf_ratio['Overall'] < 1.1) & (mf_ratio['M'] + mf_ratio['F'] > 100))].sort_values(by = 'Overall', ascending = False)"
   ]
  },
  {
   "cell_type": "markdown",
   "metadata": {},
   "source": [
    "### Are there any countries which have participated in every game in the most recent Olympic held?"
   ]
  },
  {
   "cell_type": "markdown",
   "metadata": {},
   "source": [
    "Let's create a subset with observations only for the recent season of the Olympics held .i.e. 2016."
   ]
  },
  {
   "cell_type": "code",
   "execution_count": null,
   "metadata": {},
   "outputs": [],
   "source": [
    "recent_olympic = df.loc[df['Year'] == 2016, :]"
   ]
  },
  {
   "cell_type": "code",
   "execution_count": null,
   "metadata": {},
   "outputs": [],
   "source": [
    "recent_olympic['Sport'].nunique()"
   ]
  },
  {
   "cell_type": "markdown",
   "metadata": {},
   "source": [
    "There were 34 games held during this Olympic season. Now let's check which are the countries who have played 34 games during 2016. This would help us understand the countries which have played in every sport."
   ]
  },
  {
   "cell_type": "code",
   "execution_count": null,
   "metadata": {},
   "outputs": [],
   "source": [
    "country_by_sport = pd.pivot_table(index = 'region', values = 'Sport', aggfunc = 'nunique', data = recent_olympic)"
   ]
  },
  {
   "cell_type": "code",
   "execution_count": null,
   "metadata": {},
   "outputs": [],
   "source": [
    "print(country_by_sport[country_by_sport['Sport'] == 34].index)"
   ]
  },
  {
   "cell_type": "markdown",
   "metadata": {},
   "source": [
    "Brazil is the only country which played in every sport in the 2016 Olympic season."
   ]
  },
  {
   "cell_type": "markdown",
   "metadata": {},
   "source": [
    "### Which are the top 5 cities which hosted the most number of Olympic games?"
   ]
  },
  {
   "cell_type": "code",
   "execution_count": null,
   "metadata": {},
   "outputs": [],
   "source": [
    "plt.rcParams['figure.figsize'] = (8,6)\n",
    "\n",
    "df['City'].value_counts().nlargest(5).plot(kind = 'bar', linewidth = 1, facecolor = 'seagreen', edgecolor = 'k')\n",
    "plt.title('Top 5 Cities Hosted Most Matches')\n",
    "plt.xlabel('City')\n",
    "plt.ylabel('# Matches')\n",
    "plt.show()"
   ]
  },
  {
   "cell_type": "markdown",
   "metadata": {},
   "source": [
    "### Are there any new sports introduced in the most recent summer Olympic held?"
   ]
  },
  {
   "cell_type": "code",
   "execution_count": null,
   "metadata": {},
   "outputs": [],
   "source": [
    "last_olympic = df.loc[df['Year'] == 2012, :]"
   ]
  },
  {
   "cell_type": "code",
   "execution_count": null,
   "metadata": {},
   "outputs": [],
   "source": [
    "last_olympic['Sport'].nunique()"
   ]
  },
  {
   "cell_type": "code",
   "execution_count": null,
   "metadata": {},
   "outputs": [],
   "source": [
    "recent_olympic['Sport'].nunique()"
   ]
  },
  {
   "cell_type": "markdown",
   "metadata": {},
   "source": [
    "This is an interesting question. The optimum way I could think of finding this is by using set analysis. Sets carry only the unique values by default. Let's create two sets, the one which has games held during the recent Olympics and the other with that held during the previous season."
   ]
  },
  {
   "cell_type": "code",
   "execution_count": null,
   "metadata": {},
   "outputs": [],
   "source": [
    "last = set(last_olympic['Sport'])\n",
    "recent = set(recent_olympic['Sport'])"
   ]
  },
  {
   "cell_type": "markdown",
   "metadata": {},
   "source": [
    "The difference operation of two sets would give out the values that are present in one set, but not in the other set. This is what we are looking for, right? Let's check it out."
   ]
  },
  {
   "cell_type": "code",
   "execution_count": null,
   "metadata": {},
   "outputs": [],
   "source": [
    "print('Games Introduced in the recent Summer Olympics : ', recent.difference(last))"
   ]
  },
  {
   "cell_type": "markdown",
   "metadata": {},
   "source": [
    "### Which are the sports being played since the first summer Olympic season?"
   ]
  },
  {
   "cell_type": "markdown",
   "metadata": {},
   "source": [
    "Let's create two sets as we did earlier - one for the last summer olympics and the other for the first season and then compute the intersection to check the games which are being played since the first Olympic season."
   ]
  },
  {
   "cell_type": "code",
   "execution_count": null,
   "metadata": {},
   "outputs": [],
   "source": [
    "first_olympic = df.loc[df['Year'] == 1896, :]"
   ]
  },
  {
   "cell_type": "code",
   "execution_count": null,
   "metadata": {},
   "outputs": [],
   "source": [
    "first = set(first_olympic['Sport'])\n",
    "recent = set(recent_olympic['Sport'])"
   ]
  },
  {
   "cell_type": "code",
   "execution_count": null,
   "metadata": {},
   "outputs": [],
   "source": [
    "print('Sports Played Since the First Summer Olympic Season', '\\n')\n",
    "print(recent.intersection(first))"
   ]
  },
  {
   "cell_type": "markdown",
   "metadata": {},
   "source": [
    "### Who are the top 5 players that won most gold, silver and bronze medals?"
   ]
  },
  {
   "cell_type": "code",
   "execution_count": null,
   "metadata": {},
   "outputs": [],
   "source": [
    "plt.rcParams['figure.figsize'] = (8,6)\n",
    "\n",
    "medals_won['Name'].value_counts().nlargest(5).plot(kind = 'bar', linewidth = 1, facecolor = 'seagreen', edgecolor = 'k')\n",
    "plt.title('Top 5 Players with most medals')\n",
    "plt.xlabel('Players')\n",
    "plt.ylabel('# Medals')\n",
    "plt.show()"
   ]
  },
  {
   "cell_type": "markdown",
   "metadata": {},
   "source": [
    "### Are young players tend to win more medals than the elder ones?"
   ]
  },
  {
   "cell_type": "markdown",
   "metadata": {},
   "source": [
    "Let's create a new dataframe which has the total number of players and who have won the medals. This will help us to compute the percentage of players in every age group who have won medals."
   ]
  },
  {
   "cell_type": "code",
   "execution_count": null,
   "metadata": {},
   "outputs": [],
   "source": [
    "medals_by_age = pd.DataFrame()"
   ]
  },
  {
   "cell_type": "code",
   "execution_count": null,
   "metadata": {},
   "outputs": [],
   "source": [
    "medals_by_age['Total Players'] = df['Age Group'].value_counts()\n",
    "medals_by_age['Players Won Medals'] = medals_won['Age Group'].value_counts()\n",
    "medals_by_age['Percent'] = round(medals_by_age['Players Won Medals'] / medals_by_age['Total Players'] * 100, 2)"
   ]
  },
  {
   "cell_type": "code",
   "execution_count": null,
   "metadata": {},
   "outputs": [],
   "source": [
    "medals_by_age.sort_index()"
   ]
  },
  {
   "cell_type": "markdown",
   "metadata": {},
   "source": [
    "The elder participants seem to won in less numbers, as expected. The increase in age probably would have resulted in less agility."
   ]
  },
  {
   "cell_type": "markdown",
   "metadata": {},
   "source": [
    "### Is BMI a factor influencing the player's ability to win a medal?"
   ]
  },
  {
   "cell_type": "markdown",
   "metadata": {},
   "source": [
    "Let's create a new dataframe like we did previosly. This time we will consider BMI Group as a primary feature and compute the total and percentage of players who have won medals."
   ]
  },
  {
   "cell_type": "code",
   "execution_count": null,
   "metadata": {},
   "outputs": [],
   "source": [
    "medals_by_bmi = pd.DataFrame()"
   ]
  },
  {
   "cell_type": "code",
   "execution_count": null,
   "metadata": {},
   "outputs": [],
   "source": [
    "medals_by_bmi['Total Players'] = df['bmi group'].value_counts()\n",
    "medals_by_bmi['Players Won Medals'] = medals_won['bmi group'].value_counts()\n",
    "medals_by_bmi['Percent'] = round(medals_by_bmi['Players Won Medals'] / medals_by_bmi['Total Players'] * 100, 2)"
   ]
  },
  {
   "cell_type": "code",
   "execution_count": null,
   "metadata": {},
   "outputs": [],
   "source": [
    "medals_by_bmi"
   ]
  },
  {
   "cell_type": "markdown",
   "metadata": {},
   "source": [
    "There is no inference in particular. In Olympics, there are games which require the participants to either have more or less weight. \n",
    "\n",
    "For example, if we take sports like wresting this would be played by participants who weigh more. For sports like athletics, it is the reverse case. Given this fact, there is no underlying trend between the BMI of the player and the winning ability."
   ]
  },
  {
   "cell_type": "markdown",
   "metadata": {},
   "source": []
  },
  {
   "cell_type": "code",
   "execution_count": null,
   "metadata": {},
   "outputs": [],
   "source": []
  },
  {
   "cell_type": "code",
   "execution_count": null,
   "metadata": {},
   "outputs": [],
   "source": []
  }
 ],
 "metadata": {
  "kaggle": {
   "accelerator": "none",
   "dataSources": [
    {
     "datasetId": 31029,
     "sourceId": 40943,
     "sourceType": "datasetVersion"
    }
   ],
   "dockerImageVersionId": 29955,
   "isGpuEnabled": false,
   "isInternetEnabled": true,
   "language": "python",
   "sourceType": "notebook"
  },
  "kernelspec": {
   "display_name": "Python 3 (ipykernel)",
   "language": "python",
   "name": "python3"
  },
  "language_info": {
   "codemirror_mode": {
    "name": "ipython",
    "version": 3
   },
   "file_extension": ".py",
   "mimetype": "text/x-python",
   "name": "python",
   "nbconvert_exporter": "python",
   "pygments_lexer": "ipython3",
   "version": "3.11.9"
  }
 },
 "nbformat": 4,
 "nbformat_minor": 4
}
